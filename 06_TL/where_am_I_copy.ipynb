{
  "cells": [
    {
      "cell_type": "code",
      "execution_count": 1,
      "id": "748447d1",
      "metadata": {
        "id": "748447d1"
      },
      "outputs": [],
      "source": [
        "import tensorflow as tf\n",
        "from glob import glob #撈圖片(?\n",
        "import numpy as np\n",
        "import matplotlib.pyplot as plt\n",
        "import os\n",
        "from PIL import Image #用OPENCV 也OK\n",
        "from sklearn.model_selection import train_test_split"
      ]
    },
    {
      "cell_type": "markdown",
      "id": "1cf8437b",
      "metadata": {
        "id": "1cf8437b"
      },
      "source": [
        "#### Download dataset"
      ]
    },
    {
      "cell_type": "code",
      "execution_count": 2,
      "id": "09717ecc",
      "metadata": {
        "id": "09717ecc",
        "outputId": "e4be7359-53a6-41b7-9c0b-093efce6fd2d",
        "colab": {
          "base_uri": "https://localhost:8080/"
        }
      },
      "outputs": [
        {
          "output_type": "stream",
          "name": "stdout",
          "text": [
            "Looking in indexes: https://pypi.org/simple, https://us-python.pkg.dev/colab-wheels/public/simple/\n",
            "Requirement already satisfied: gdown in /usr/local/lib/python3.9/dist-packages (4.6.4)\n",
            "Requirement already satisfied: beautifulsoup4 in /usr/local/lib/python3.9/dist-packages (from gdown) (4.11.2)\n",
            "Requirement already satisfied: tqdm in /usr/local/lib/python3.9/dist-packages (from gdown) (4.65.0)\n",
            "Requirement already satisfied: six in /usr/local/lib/python3.9/dist-packages (from gdown) (1.16.0)\n",
            "Requirement already satisfied: filelock in /usr/local/lib/python3.9/dist-packages (from gdown) (3.10.0)\n",
            "Requirement already satisfied: requests[socks] in /usr/local/lib/python3.9/dist-packages (from gdown) (2.27.1)\n",
            "Requirement already satisfied: soupsieve>1.2 in /usr/local/lib/python3.9/dist-packages (from beautifulsoup4->gdown) (2.4)\n",
            "Requirement already satisfied: charset-normalizer~=2.0.0 in /usr/local/lib/python3.9/dist-packages (from requests[socks]->gdown) (2.0.12)\n",
            "Requirement already satisfied: urllib3<1.27,>=1.21.1 in /usr/local/lib/python3.9/dist-packages (from requests[socks]->gdown) (1.26.15)\n",
            "Requirement already satisfied: certifi>=2017.4.17 in /usr/local/lib/python3.9/dist-packages (from requests[socks]->gdown) (2022.12.7)\n",
            "Requirement already satisfied: idna<4,>=2.5 in /usr/local/lib/python3.9/dist-packages (from requests[socks]->gdown) (3.4)\n",
            "Requirement already satisfied: PySocks!=1.5.7,>=1.5.6 in /usr/local/lib/python3.9/dist-packages (from requests[socks]->gdown) (1.7.1)\n",
            "Downloading...\n",
            "From: https://drive.google.com/uc?id=1B6inr_JHXRTidFsSMqOGhJWJr_09hXdF\n",
            "To: /content/where_am_i.tar\n",
            "100% 89.9M/89.9M [00:02<00:00, 35.7MB/s]\n"
          ]
        }
      ],
      "source": [
        "!pip install --upgrade gdown #從雲端硬碟抓檔案\n",
        "!gdown --fuzzy 1B6inr_JHXRTidFsSMqOGhJWJr_09hXdF"
      ]
    },
    {
      "cell_type": "code",
      "execution_count": 3,
      "id": "9074dadc",
      "metadata": {
        "id": "9074dadc"
      },
      "outputs": [],
      "source": [
        "!tar xf where_am_i.tar\n",
        "#載完資料要看看類別怎樣對應(mapping.txt)"
      ]
    },
    {
      "cell_type": "markdown",
      "id": "82cc5e13",
      "metadata": {
        "id": "82cc5e13"
      },
      "source": [
        "#### Hyperparameters"
      ]
    },
    {
      "cell_type": "code",
      "execution_count": 4,
      "id": "ef739773",
      "metadata": {
        "id": "ef739773"
      },
      "outputs": [],
      "source": [
        "IMG_SIZE = 224 #嘗試其他值也可以\n",
        "BS = 64 "
      ]
    },
    {
      "cell_type": "code",
      "execution_count": 5,
      "id": "3f314a4f",
      "metadata": {
        "id": "3f314a4f",
        "outputId": "016695b3-9818-4130-aaca-25caf1db7062",
        "colab": {
          "base_uri": "https://localhost:8080/"
        }
      },
      "outputs": [
        {
          "output_type": "execute_result",
          "data": {
            "text/plain": [
              "({'CALsuburb': 9,\n",
              "  'PARoffice': 7,\n",
              "  'bedroom': 12,\n",
              "  'coast': 10,\n",
              "  'forest': 4,\n",
              "  'highway': 14,\n",
              "  'industrial': 2,\n",
              "  'insidecity': 3,\n",
              "  'kitchen': 0,\n",
              "  'livingroom': 5,\n",
              "  'mountain': 8,\n",
              "  'opencountry': 6,\n",
              "  'store': 11,\n",
              "  'street': 1,\n",
              "  'tallbuilding': 13},\n",
              " 15)"
            ]
          },
          "metadata": {},
          "execution_count": 5
        }
      ],
      "source": [
        "# 建立類別名稱轉class idx字典    (手KEY也OK，生的出這個字典就行)\n",
        "with open(\"mapping.txt\") as f:\n",
        "    lines = f.readlines()\n",
        "lines = [l.strip().replace(\" \", \"\") for l in lines]\n",
        "CLASS_MAP = {pair.split(\",\")[0]: int(pair.split(\",\")[1]) for pair in lines}\n",
        "NUM_CLASS = len(CLASS_MAP) #有幾種類型\n",
        "\n",
        "CLASS_MAP, NUM_CLASS\n",
        "#也可以自己再做更多EDA"
      ]
    },
    {
      "cell_type": "markdown",
      "id": "5bde9d7d",
      "metadata": {
        "id": "5bde9d7d"
      },
      "source": [
        "#### Build Dataset"
      ]
    },
    {
      "cell_type": "code",
      "execution_count": 6,
      "id": "ef2bdac6",
      "metadata": {
        "id": "ef2bdac6",
        "outputId": "ce8eaa7e-f939-4a34-d4d8-3ca20af24023",
        "colab": {
          "base_uri": "https://localhost:8080/"
        }
      },
      "outputs": [
        {
          "output_type": "execute_result",
          "data": {
            "text/plain": [
              "(2152, 539)"
            ]
          },
          "metadata": {},
          "execution_count": 6
        }
      ],
      "source": [
        "# 撈取有解答之圖片路徑, 分割train, val路徑\n",
        "paths = glob(\"train/*/*.jpg\") #撈出TRAIN底下所有資料夾、所有JPG\n",
        "train_paths, val_paths = train_test_split(paths, \n",
        "                                          test_size=0.2, \n",
        "                                          random_state=5566)\n",
        "\n",
        "len(train_paths), len(val_paths)"
      ]
    },
    {
      "cell_type": "code",
      "execution_count": 8,
      "id": "0f9fd26f",
      "metadata": {
        "id": "0f9fd26f",
        "outputId": "8005f419-c911-4fe8-bba2-00d3a229804e",
        "colab": {
          "base_uri": "https://localhost:8080/",
          "height": 286
        }
      },
      "outputs": [
        {
          "output_type": "execute_result",
          "data": {
            "text/plain": [
              "((220, 293, 3), 'train/industrial/image_0158.jpg')"
            ]
          },
          "metadata": {},
          "execution_count": 8
        },
        {
          "output_type": "display_data",
          "data": {
            "text/plain": [
              "<Figure size 432x288 with 1 Axes>"
            ],
            "image/png": "[encoded data removed]"
          },
          "metadata": {
            "needs_background": "light"
          }
        }
      ],
      "source": [
        "# 圖片視覺化\n",
        "path = np.random.choice(train_paths) #隨機抽張圖來看看\n",
        "img = np.array(Image.open(path).convert(\"RGB\"))\n",
        "plt.imshow(img)\n",
        "img.shape, path"
      ]
    },
    {
      "cell_type": "code",
      "execution_count": 9,
      "id": "331a428b",
      "metadata": {
        "id": "331a428b"
      },
      "outputs": [],
      "source": [
        "# 擷取資料夾名稱轉成類別id\n",
        "#os.sep: \"/\"\n",
        "def paths2labels(paths):\n",
        "    return [CLASS_MAP[p.split(os.sep)[-2]] for p in paths] #path以\"/\"分割的倒數第二個就是類別名稱，在MAP查到他的數字"
      ]
    },
    {
      "cell_type": "code",
      "execution_count": 10,
      "id": "be3193b4",
      "metadata": {
        "id": "be3193b4",
        "outputId": "57ec84b2-52e1-426b-9a73-a2873c317916",
        "colab": {
          "base_uri": "https://localhost:8080/"
        }
      },
      "outputs": [
        {
          "output_type": "execute_result",
          "data": {
            "text/plain": [
              "(['train/tallbuilding/image_0110.jpg',\n",
              "  'train/PARoffice/image_0178.jpg',\n",
              "  'train/insidecity/image_0151.jpg',\n",
              "  'train/store/image_0270.jpg',\n",
              "  'train/opencountry/image_0151.jpg',\n",
              "  'train/livingroom/image_0034.jpg',\n",
              "  'train/bedroom/image_0046.jpg',\n",
              "  'train/opencountry/image_0003.jpg',\n",
              "  'train/street/image_0150.jpg',\n",
              "  'train/opencountry/image_0049.jpg'],\n",
              " [13, 7, 3, 11, 6, 5, 12, 6, 1, 6])"
            ]
          },
          "metadata": {},
          "execution_count": 10
        }
      ],
      "source": [
        "train_paths[:10], paths2labels(train_paths)[:10] #檢查"
      ]
    },
    {
      "cell_type": "code",
      "execution_count": 11,
      "id": "52dff95a",
      "metadata": {
        "id": "52dff95a"
      },
      "outputs": [],
      "source": [
        "# 影像讀取 & resize\n",
        "def load_and_resize_image(path):\n",
        "    image = tf.io.read_file(path)\n",
        "    image = tf.image.decode_jpeg(image, channels=3)\n",
        "    image = tf.image.resize(image, [IMG_SIZE, IMG_SIZE])\n",
        "    return image\n",
        "\n",
        "# 使用路徑建構 tf.data.Dataset\n",
        "def build_ds(paths):\n",
        "    labels = paths2labels(paths) # paths -> labels\n",
        "    image_ds = tf.data.Dataset.from_tensor_slices((paths, labels))\n",
        "    image_ds = image_ds.map(lambda path, label: (load_and_resize_image(path), label)) # path -> img, labels\n",
        "    return image_ds"
      ]
    },
    {
      "cell_type": "code",
      "execution_count": 12,
      "id": "5b62bb1b",
      "metadata": {
        "id": "5b62bb1b",
        "outputId": "2bb0fe0d-29c0-400f-c877-e3fe6a7fa21f",
        "colab": {
          "base_uri": "https://localhost:8080/"
        }
      },
      "outputs": [
        {
          "output_type": "stream",
          "name": "stderr",
          "text": [
            "WARNING:tensorflow:From /usr/local/lib/python3.9/dist-packages/tensorflow/python/autograph/pyct/static_analysis/liveness.py:83: Analyzer.lamba_check (from tensorflow.python.autograph.pyct.static_analysis.liveness) is deprecated and will be removed after 2023-09-23.\n",
            "Instructions for updating:\n",
            "Lambda fuctions will be no more assumed to be used in the statement where they are used, or at least in the same block. https://github.com/tensorflow/tensorflow/issues/56089\n"
          ]
        }
      ],
      "source": [
        "# 建構train, val dataset\n",
        "train_ds = build_ds(train_paths).shuffle(buffer_size=len(train_paths)).batch(BS) #TRAINING才會做SHUFFLE\n",
        "val_ds = build_ds(val_paths).batch(BS)"
      ]
    },
    {
      "cell_type": "markdown",
      "id": "f250a877",
      "metadata": {
        "id": "f250a877"
      },
      "source": [
        "#### Build Model"
      ]
    },
    {
      "cell_type": "code",
      "execution_count": 13,
      "id": "26a273bd",
      "metadata": {
        "id": "26a273bd"
      },
      "outputs": [],
      "source": [
        "class WAIModel(tf.keras.models.Model): #init和call一定要有\n",
        "    def __init__(self, encoder, preprocess, freeze): #初始化\n",
        "        super().__init__()\n",
        "        # 前處理函數\n",
        "        self.preprocess = preprocess\n",
        "        # 資料擴增 (像這樣放模型裡也可以，外面另外做也可以)(可以再擴增更多)\n",
        "        self.data_aug = tf.keras.Sequential([\n",
        "            tf.keras.layers.RandomFlip(\"horizontal\"),\n",
        "            tf.keras.layers.RandomRotation(0.1),\n",
        "        ])\n",
        "        # feature extractor\n",
        "        self.encoder = encoder\n",
        "        # classifier\n",
        "        self.classifier = tf.keras.Sequential([\n",
        "            tf.keras.layers.GlobalAveragePooling2D(), #特徵圖轉為特徵向量\n",
        "            tf.keras.layers.Dropout(0.2), #防OVERFITTING\n",
        "            tf.keras.layers.Dense(NUM_CLASS), #分幾類(這裡15) #線性的\n",
        "            tf.keras.layers.Softmax(), #多類分類用softmax\n",
        "        ])\n",
        "        # freeze: 是否鎖住encoder參數 (鎖著的話，等於只TRAIN最後的分類器)(比較不會OVERFITTING)\n",
        "        if freeze:\n",
        "            for l in self.encoder.layers:\n",
        "                l.trainable = False\n",
        "    def call(self, inputs, training=None): #有些網路層，訓練和預測時的行為不同，例如Dropout \n",
        "        x = self.preprocess(inputs)\n",
        "        # 非訓練時不使用資料擴增\n",
        "        if training:\n",
        "            x = self.data_aug(x)\n",
        "            \n",
        "        x = self.encoder(x, training)\n",
        "        x = self.classifier(x, training)\n",
        "        return x\n",
        "        #以上這CELL是繼承的寫法，要用FUNCTIONAL API(?)寫法也可以\n",
        "        #TRANSFER LEARNING的強大\n",
        "        #KERAS的很多模型都可以拿來用"
      ]
    },
    {
      "cell_type": "code",
      "execution_count": 14,
      "id": "bb4044db",
      "metadata": {
        "id": "bb4044db",
        "outputId": "03926b60-79ef-482c-b583-50bdb9f6c83d",
        "colab": {
          "base_uri": "https://localhost:8080/"
        }
      },
      "outputs": [
        {
          "output_type": "stream",
          "name": "stdout",
          "text": [
            "Downloading data from https://storage.googleapis.com/keras-applications/efficientnetb0_notop.h5\n",
            "16705208/16705208 [==============================] - 2s 0us/step\n"
          ]
        }
      ],
      "source": [
        "# 使用模型對應之前處理函式\n",
        "preprocess = tf.keras.applications.efficientnet.preprocess_input #用他分裝好了的前處理方式\n",
        "encoder = tf.keras.applications.efficientnet.EfficientNetB0(include_top=False, #因為我們分類器是自己寫所以include_top=False\n",
        "                                                            weights='imagenet') #用已訓練過的!\n",
        "\n",
        "model = WAIModel(encoder, \n",
        "                 preprocess,\n",
        "                 freeze=True)"
      ]
    },
    {
      "cell_type": "code",
      "execution_count": 15,
      "id": "b64930a5",
      "metadata": {
        "id": "b64930a5"
      },
      "outputs": [],
      "source": [
        "model.compile(optimizer=tf.keras.optimizers.Adam(),\n",
        "              loss=tf.keras.losses.SparseCategoricalCrossentropy(), #沒做One-Hot的話要加Sparse(模型會幫作One-Hot)\n",
        "              metrics=[tf.keras.metrics.SparseCategoricalAccuracy()])"
      ]
    },
    {
      "cell_type": "markdown",
      "id": "7454fd36",
      "metadata": {
        "id": "7454fd36"
      },
      "source": [
        "#### Training"
      ]
    },
    {
      "cell_type": "code",
      "execution_count": 16,
      "id": "2a048808",
      "metadata": {
        "id": "2a048808",
        "outputId": "ce3fee79-055a-4c36-fdf1-10c5c8b4de1d",
        "colab": {
          "base_uri": "https://localhost:8080/"
        }
      },
      "outputs": [
        {
          "output_type": "stream",
          "name": "stdout",
          "text": [
            "Epoch 1/20\n"
          ]
        },
        {
          "output_type": "stream",
          "name": "stderr",
          "text": [
            "WARNING:tensorflow:Using a while_loop for converting RngReadAndSkip cause there is no registered converter for this op.\n",
            "WARNING:tensorflow:Using a while_loop for converting Bitcast cause there is no registered converter for this op.\n",
            "WARNING:tensorflow:Using a while_loop for converting Bitcast cause there is no registered converter for this op.\n",
            "WARNING:tensorflow:Using a while_loop for converting StatelessRandomUniformV2 cause there is no registered converter for this op.\n",
            "WARNING:tensorflow:Using a while_loop for converting ImageProjectiveTransformV3 cause there is no registered converter for this op.\n",
            "WARNING:tensorflow:Using a while_loop for converting RngReadAndSkip cause there is no registered converter for this op.\n",
            "WARNING:tensorflow:Using a while_loop for converting Bitcast cause there is no registered converter for this op.\n",
            "WARNING:tensorflow:Using a while_loop for converting Bitcast cause there is no registered converter for this op.\n",
            "WARNING:tensorflow:Using a while_loop for converting StatelessRandomUniformV2 cause there is no registered converter for this op.\n",
            "WARNING:tensorflow:Using a while_loop for converting ImageProjectiveTransformV3 cause there is no registered converter for this op.\n",
            "WARNING:tensorflow:Using a while_loop for converting RngReadAndSkip cause there is no registered converter for this op.\n",
            "WARNING:tensorflow:Using a while_loop for converting Bitcast cause there is no registered converter for this op.\n",
            "WARNING:tensorflow:Using a while_loop for converting Bitcast cause there is no registered converter for this op.\n",
            "WARNING:tensorflow:Using a while_loop for converting StatelessRandomUniformV2 cause there is no registered converter for this op.\n",
            "WARNING:tensorflow:Using a while_loop for converting ImageProjectiveTransformV3 cause there is no registered converter for this op.\n"
          ]
        },
        {
          "output_type": "stream",
          "name": "stdout",
          "text": [
            "34/34 [==============================] - 33s 445ms/step - loss: 1.7768 - sparse_categorical_accuracy: 0.5144 - val_loss: 0.9738 - val_sparse_categorical_accuracy: 0.8108\n",
            "Epoch 2/20\n",
            "34/34 [==============================] - 14s 361ms/step - loss: 0.8126 - sparse_categorical_accuracy: 0.8146 - val_loss: 0.6008 - val_sparse_categorical_accuracy: 0.8497\n",
            "Epoch 3/20\n",
            "34/34 [==============================] - 14s 367ms/step - loss: 0.5594 - sparse_categorical_accuracy: 0.8638 - val_loss: 0.4759 - val_sparse_categorical_accuracy: 0.8683\n",
            "Epoch 4/20\n",
            "34/34 [==============================] - 14s 355ms/step - loss: 0.4634 - sparse_categorical_accuracy: 0.8727 - val_loss: 0.4130 - val_sparse_categorical_accuracy: 0.8813\n",
            "Epoch 5/20\n",
            "34/34 [==============================] - 14s 366ms/step - loss: 0.4003 - sparse_categorical_accuracy: 0.8848 - val_loss: 0.3752 - val_sparse_categorical_accuracy: 0.8887\n",
            "Epoch 6/20\n",
            "34/34 [==============================] - 14s 354ms/step - loss: 0.3433 - sparse_categorical_accuracy: 0.9154 - val_loss: 0.3487 - val_sparse_categorical_accuracy: 0.8924\n",
            "Epoch 7/20\n",
            "34/34 [==============================] - 14s 354ms/step - loss: 0.3205 - sparse_categorical_accuracy: 0.9126 - val_loss: 0.3333 - val_sparse_categorical_accuracy: 0.8924\n",
            "Epoch 8/20\n",
            "34/34 [==============================] - 14s 354ms/step - loss: 0.2976 - sparse_categorical_accuracy: 0.9126 - val_loss: 0.3119 - val_sparse_categorical_accuracy: 0.8924\n",
            "Epoch 9/20\n",
            "34/34 [==============================] - 14s 360ms/step - loss: 0.2632 - sparse_categorical_accuracy: 0.9257 - val_loss: 0.3046 - val_sparse_categorical_accuracy: 0.8924\n",
            "Epoch 10/20\n",
            "34/34 [==============================] - 17s 426ms/step - loss: 0.2633 - sparse_categorical_accuracy: 0.9284 - val_loss: 0.2994 - val_sparse_categorical_accuracy: 0.8980\n",
            "Epoch 11/20\n",
            "34/34 [==============================] - 14s 350ms/step - loss: 0.2389 - sparse_categorical_accuracy: 0.9359 - val_loss: 0.2899 - val_sparse_categorical_accuracy: 0.8980\n",
            "Epoch 12/20\n",
            "34/34 [==============================] - 16s 419ms/step - loss: 0.2346 - sparse_categorical_accuracy: 0.9326 - val_loss: 0.2817 - val_sparse_categorical_accuracy: 0.9054\n",
            "Epoch 13/20\n",
            "34/34 [==============================] - 14s 374ms/step - loss: 0.2144 - sparse_categorical_accuracy: 0.9359 - val_loss: 0.2786 - val_sparse_categorical_accuracy: 0.9017\n",
            "Epoch 14/20\n",
            "34/34 [==============================] - 15s 355ms/step - loss: 0.2112 - sparse_categorical_accuracy: 0.9424 - val_loss: 0.2673 - val_sparse_categorical_accuracy: 0.9091\n",
            "Epoch 15/20\n",
            "34/34 [==============================] - 15s 379ms/step - loss: 0.2030 - sparse_categorical_accuracy: 0.9410 - val_loss: 0.2649 - val_sparse_categorical_accuracy: 0.9072\n",
            "Epoch 16/20\n",
            "34/34 [==============================] - 14s 356ms/step - loss: 0.1962 - sparse_categorical_accuracy: 0.9382 - val_loss: 0.2622 - val_sparse_categorical_accuracy: 0.9072\n",
            "Epoch 17/20\n",
            "34/34 [==============================] - 15s 378ms/step - loss: 0.1821 - sparse_categorical_accuracy: 0.9447 - val_loss: 0.2568 - val_sparse_categorical_accuracy: 0.9165\n",
            "Epoch 18/20\n",
            "34/34 [==============================] - 17s 418ms/step - loss: 0.1795 - sparse_categorical_accuracy: 0.9493 - val_loss: 0.2534 - val_sparse_categorical_accuracy: 0.9128\n",
            "Epoch 19/20\n",
            "34/34 [==============================] - 16s 431ms/step - loss: 0.1690 - sparse_categorical_accuracy: 0.9540 - val_loss: 0.2541 - val_sparse_categorical_accuracy: 0.9109\n",
            "Epoch 20/20\n",
            "34/34 [==============================] - 15s 374ms/step - loss: 0.1649 - sparse_categorical_accuracy: 0.9549 - val_loss: 0.2496 - val_sparse_categorical_accuracy: 0.9147\n"
          ]
        },
        {
          "output_type": "execute_result",
          "data": {
            "text/plain": [
              "<keras.callbacks.History at 0x7f1bc134d490>"
            ]
          },
          "metadata": {},
          "execution_count": 16
        }
      ],
      "source": [
        "model.fit(train_ds, \n",
        "          epochs=20, \n",
        "          validation_data=val_ds,\n",
        "          callbacks=[\n",
        "              tf.keras.callbacks.ModelCheckpoint(\"best.h5\",\n",
        "                                                 save_best_only=True,\n",
        "                                                 save_weights_only=True) #把模型的參數全都存下來\n",
        "          ])"
      ]
    },
    {
      "cell_type": "markdown",
      "id": "b0fbb7b1",
      "metadata": {
        "id": "b0fbb7b1"
      },
      "source": [
        "#### Test submission\n",
        "\n",
        "繳交至：https://www.kaggle.com/competitions/aia-xt121-cv-kaggle"
      ]
    },
    {
      "cell_type": "code",
      "execution_count": 17,
      "id": "c2ce297c",
      "metadata": {
        "id": "c2ce297c"
      },
      "outputs": [],
      "source": [
        "import pandas as pd"
      ]
    },
    {
      "cell_type": "code",
      "execution_count": 18,
      "id": "c1b732be",
      "metadata": {
        "id": "c1b732be"
      },
      "outputs": [],
      "source": [
        "# 讀取最佳val_loss model參數\n",
        "model.load_weights(\"best.h5\")"
      ]
    },
    {
      "cell_type": "code",
      "execution_count": 19,
      "id": "35fdf2ac",
      "metadata": {
        "id": "35fdf2ac"
      },
      "outputs": [],
      "source": [
        "df = pd.read_csv(\"sample_submission.csv\")"
      ]
    },
    {
      "cell_type": "code",
      "execution_count": 20,
      "id": "da310451",
      "metadata": {
        "id": "da310451",
        "outputId": "edba276a-9615-4106-c3ec-ff5d1e1e5691",
        "colab": {
          "base_uri": "https://localhost:8080/"
        }
      },
      "outputs": [
        {
          "output_type": "execute_result",
          "data": {
            "text/plain": [
              "(                     id  class\n",
              " 0  12VJYE4AE85K3QZZIDGW      0\n",
              " 1  4XLB86I30GZZZEVZBM2O      0\n",
              " 2  TRS0Y4KQO74ET6A7POW8      0\n",
              " 3  0R4BF4JPJL4QG25GNJRH      0\n",
              " 4  YHQSSCEBEBB99DLIRTK8      0, 1794)"
            ]
          },
          "metadata": {},
          "execution_count": 20
        }
      ],
      "source": [
        "df.head(), len(df)"
      ]
    },
    {
      "cell_type": "code",
      "execution_count": 21,
      "id": "e0663417",
      "metadata": {
        "id": "e0663417"
      },
      "outputs": [],
      "source": [
        "# 建構測試dataset\n",
        "test_paths = [os.path.join(f\"test/{name}.jpg\") for name in df[\"id\"].tolist()]\n",
        "test_ds = tf.data.Dataset.from_tensor_slices((test_paths))\n",
        "test_ds = test_ds.map(lambda path: load_and_resize_image(path)).batch(BS)"
      ]
    },
    {
      "cell_type": "code",
      "execution_count": 22,
      "id": "249f059c",
      "metadata": {
        "id": "249f059c",
        "outputId": "042e9e91-36d2-4e3b-844f-7da2d50427f4",
        "colab": {
          "base_uri": "https://localhost:8080/"
        }
      },
      "outputs": [
        {
          "output_type": "stream",
          "name": "stdout",
          "text": [
            "29/29 [==============================] - 5s 115ms/step\n"
          ]
        }
      ],
      "source": [
        "prediction = model.predict(test_ds)"
      ]
    },
    {
      "cell_type": "code",
      "execution_count": 23,
      "id": "fa912784",
      "metadata": {
        "id": "fa912784"
      },
      "outputs": [],
      "source": [
        "\n",
        "prediction = np.argmax(prediction, axis=-1)"
      ]
    },
    {
      "cell_type": "code",
      "execution_count": 24,
      "id": "3f929694",
      "metadata": {
        "id": "3f929694"
      },
      "outputs": [],
      "source": [
        "df[\"class\"] = prediction"
      ]
    },
    {
      "cell_type": "code",
      "execution_count": 25,
      "id": "7bd4303a",
      "metadata": {
        "id": "7bd4303a"
      },
      "outputs": [],
      "source": [
        "df.to_csv(\"submission.csv\", index=None)"
      ]
    },
    {
      "cell_type": "markdown",
      "id": "ceb9bc7c",
      "metadata": {
        "id": "ceb9bc7c"
      },
      "source": [
        "Public  Private\n",
        "\n",
        "0.92264 0.90529"
      ]
    },
    {
      "cell_type": "code",
      "source": [],
      "metadata": {
        "id": "BupnvZxTHEZp"
      },
      "id": "BupnvZxTHEZp",
      "execution_count": null,
      "outputs": []
    }
  ],
  "metadata": {
    "kernelspec": {
      "display_name": "Python 3 (ipykernel)",
      "language": "python",
      "name": "python3"
    },
    "language_info": {
      "codemirror_mode": {
        "name": "ipython",
        "version": 3
      },
      "file_extension": ".py",
      "mimetype": "text/x-python",
      "name": "python",
      "nbconvert_exporter": "python",
      "pygments_lexer": "ipython3",
      "version": "3.7.12"
    },
    "colab": {
      "provenance": []
    },
    "accelerator": "GPU",
    "gpuClass": "standard"
  },
  "nbformat": 4,
  "nbformat_minor": 5
}